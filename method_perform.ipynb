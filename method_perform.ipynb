{
 "cells": [
  {
   "cell_type": "markdown",
   "id": "c10d3099-9ca0-4271-98b9-7020e961d714",
   "metadata": {},
   "source": [
    "# Método de interpolación de Kriging\n",
    "Esta notebook muestra el comportamiento del método de interpolación de Kriging en una dimension."
   ]
  },
  {
   "cell_type": "code",
   "execution_count": 1,
   "id": "3e444d1c-42b9-4287-ac3d-84aacb7dae98",
   "metadata": {},
   "outputs": [
    {
     "data": {
      "text/plain": [
       "[[0, 'AJM', 'PA'],\n",
       " [1, 'CUT', 'PA'],\n",
       " [2, 'HGM', 'PA'],\n",
       " [3, 'INN', 'PA'],\n",
       " [4, 'LAA', 'PA'],\n",
       " [5, 'MER', 'PA'],\n",
       " [6, 'MON', 'PA'],\n",
       " [7, 'MPA', 'PA'],\n",
       " [8, 'TLA', 'PA'],\n",
       " [9, 'XAL', 'PA']]"
      ]
     },
     "execution_count": 1,
     "metadata": {},
     "output_type": "execute_result"
    }
   ],
   "source": [
    "import pymysql.cursors\n",
    "import pandas as pd\n",
    "\n",
    "# Connect to the database\n",
    "connection = pymysql.connect(host='localhost',\n",
    "                             user='root',\n",
    "                             password='root',\n",
    "                             database='PA',\n",
    "                             cursorclass=pymysql.cursors.DictCursor)\n",
    "\n",
    "with connection.cursor() as cursor:\n",
    "    cursor.execute(\"SELECT DISTINCT Estacion FROM presionatmosferica\")\n",
    "    result_est = cursor.fetchall()\n",
    "    cursor.execute(\"SELECT DISTINCT Parametro FROM presionatmosferica\")\n",
    "    result_par = cursor.fetchall()\n",
    "    #cursor.close()\n",
    "    cursor.execute(\"SELECT DISTINCT Parametro FROM presionatmosferica\")\n",
    "    result_par = cursor.fetchall()\n",
    "    cursor.close()\n",
    "\n",
    "\n",
    "estaciones = pd.DataFrame(result_est)\n",
    "parametros = pd.DataFrame(result_par)\n",
    "QuerySerial = [[i, estaciones.Estacion.iloc[i], parametros.Parametro.iloc[j]]for i in range(len(estaciones)) for j in range(len(parametros))]\n",
    "QuerySerial"
   ]
  },
  {
   "cell_type": "markdown",
   "id": "49afb472-f3ff-4398-a82b-90eaab4bc0b8",
   "metadata": {},
   "source": [
    "Con la coneccion establecida y las solicitudes ejecutadas podemos cargar una serie temporal a un Data Frame para poder filtrar fácilmente los datos \n",
    "faltantes"
   ]
  },
  {
   "cell_type": "code",
   "execution_count": 2,
   "id": "f994d948-04a3-4feb-bd73-ca05de3d0f54",
   "metadata": {},
   "outputs": [
    {
     "data": {
      "text/plain": [
       "'SELECT Valor FROM presionatmosferica WHERE Estacion=CUT ORDER BY FechaDEC ASC'"
      ]
     },
     "execution_count": 2,
     "metadata": {},
     "output_type": "execute_result"
    }
   ],
   "source": [
    "ConsultaV = 'SELECT Valor FROM presionatmosferica WHERE Estacion=' + QuerySerial[1][1] + ' ORDER BY FechaDEC ASC'\n",
    "# este es un ejemplo de una serie temporal y la solicitúd que se hace al \n",
    "# curosor para imoprtarla desde la base de datos\n",
    "ConsultaV"
   ]
  },
  {
   "cell_type": "code",
   "execution_count": 3,
   "id": "05ba596d-91b7-4ecb-95ef-88eddb67bb3c",
   "metadata": {
    "tags": []
   },
   "outputs": [
    {
     "name": "stdout",
     "output_type": "stream",
     "text": [
      "SELECT FechaDEC, Valor FROM presionatmosferica WHERE Estacion=\"AJM\" ORDER BY FechaDEC ASC\n"
     ]
    }
   ],
   "source": [
    "import time\n",
    "import pymysql.cursors\n",
    "import mysql.connector\n",
    "import pandas as pd\n",
    "import numpy as np\n",
    "import math\n",
    "import random\n",
    "from sympy import *\n",
    "ConsultaV = 'SELECT FechaDEC, Valor FROM presionatmosferica WHERE Estacion=\"' + QuerySerial[0][1] + '\" ORDER BY FechaDEC ASC'\n",
    "print(ConsultaV)\n",
    "with connection.cursor() as cursor:\n",
    "\n",
    "    #ConsultaV = 'SELECT Valor FROM presionatmosferica WHERE Estacion=' + QuerySerial[0][1] + ' ORDER BY FechaDEC ASC'\n",
    "    cursor.execute(ConsultaV)\n",
    "    Valor = cursor.fetchall()\n",
    "# cargamos los datos en un dataframe\n",
    "Datos = pd.DataFrame(Valor)\n",
    "# y comenzamos a filtrar y separar los valores faltantes de los llenos.\n",
    "\n",
    "Datos['Valor'] = pd.to_numeric(Datos['Valor'], errors='coerce')\n",
    "Datos['FechaDEC'] = pd.to_numeric(Datos['FechaDEC'], errors='coerce')\n",
    "llenos = Datos.dropna()\n",
    "huecos = Datos[Datos.isnull().values]\n",
    "\n",
    "# Este valor corresponde a el tamaño del muestreo.\n",
    "nkrig = 24 * 7\n"
   ]
  },
  {
   "cell_type": "code",
   "execution_count": 7,
   "id": "4cc3ea96-4f38-46d3-a55b-20bfa1ae3bd9",
   "metadata": {},
   "outputs": [
    {
     "name": "stderr",
     "output_type": "stream",
     "text": [
      "/home/ars/.local/lib/python3.9/site-packages/seaborn/_decorators.py:36: FutureWarning: Pass the following variables as keyword args: x, y. From version 0.12, the only valid positional argument will be `data`, and passing other arguments without an explicit keyword will result in an error or misinterpretation.\n",
      "  warnings.warn(\n"
     ]
    },
    {
     "data": {
      "text/plain": [
       "<AxesSubplot:xlabel='0', ylabel='1'>"
      ]
     },
     "execution_count": 7,
     "metadata": {},
     "output_type": "execute_result"
    },
    {
     "data": {
      "image/png": "[encoded data removed]",
      "text/plain": [
       "<Figure size 432x288 with 1 Axes>"
      ]
     },
     "metadata": {
      "needs_background": "light"
     },
     "output_type": "display_data"
    }
   ],
   "source": [
    "import matplotlib.pyplot as plt\n",
    "import seaborn as sns\n",
    "U = [llenos.iloc[random.randrange(1, len(llenos))].tolist() for n in range(nkrig)]\n",
    "forplot = pd.DataFrame(U)\n",
    "sns.scatterplot(forplot[0], forplot[1])\n",
    "# plot de los datos llenos."
   ]
  },
  {
   "cell_type": "markdown",
   "id": "258c6240-aca0-4af0-93b7-a2c200308592",
   "metadata": {},
   "source": [
    "El método de interpolación de kriging consiste en resolver un sistema de ecuaciónes que calcula el valor faltante a través de una matriz construida sobre un variograma contruido con un sampleo de los datos disponibles."
   ]
  },
  {
   "cell_type": "code",
   "execution_count": 13,
   "id": "8b0043b9-2594-42e5-b668-c9161bd76a1e",
   "metadata": {},
   "outputs": [
    {
     "name": "stdout",
     "output_type": "stream",
     "text": [
      "555.8920768404518\n"
     ]
    },
    {
     "data": {
      "text/plain": [
       "73.74644637107849"
      ]
     },
     "execution_count": 13,
     "metadata": {},
     "output_type": "execute_result"
    }
   ],
   "source": [
    "time_start = time.time()\n",
    "ubic = [float(huecos.iloc[1].FechaDEC), 1]\n",
    "U = [llenos.iloc[random.randrange(1, len(llenos))].tolist() for n in range(nkrig)]\n",
    "dim = len(U)\n",
    "U.append(ubic)\n",
    "Distances = [[math.dist(U[i],U[j]) for i in range(len(U))] for j in range(len(U))]\n",
    "S = ones(dim+1, dim+2)\n",
    "D = Matrix(Distances)\n",
    "S[0:dim, 0:dim] = D[0:dim, 0:dim]\n",
    "S[dim, dim] = 0.0\n",
    "S[0:dim, dim+1] = D[0:dim, dim]\n",
    "Sol, _ = S.rref()\n",
    "#Sol[0:dim, dim+1]\n",
    "Vals = S[0:dim, dim+1]\n",
    "result = (Sol[0:dim, dim+1].T * Vals)[0]\n",
    "print(float(result))\n",
    "d_t = time.time() - time_start\n",
    "d_t"
   ]
  },
  {
   "cell_type": "markdown",
   "id": "c98bccac-79c5-42db-a8bb-95e8c3ed256f",
   "metadata": {},
   "source": [
    "Utilizando la librería sympy podemos resolver la matriz y obtener un resultado estimado,lo cual está bien, sin embargo, considerando la cantidad de datos que se desean interpolar, este tiempo no es una opción."
   ]
  },
  {
   "cell_type": "code",
   "execution_count": 3,
   "id": "6eb76b99-d6b2-4738-8c6a-d7607539e998",
   "metadata": {},
   "outputs": [
    {
     "name": "stdout",
     "output_type": "stream",
     "text": [
      "0.0 0.22890019416809082\n",
      "557.0227743195644 0.05425453186035156\n",
      "553.7275020336799 0.06691598892211914\n",
      "555.991147576664 0.06583905220031738\n",
      "557.0495157214664 0.07491064071655273\n",
      "556.96659217571 0.06707453727722168\n",
      "556.2410328205854 0.062341928482055664\n",
      "-48474.860016674036 0.06590580940246582\n",
      "556.9640820457045 0.06699490547180176\n",
      "553.8460185149588 0.06140303611755371\n"
     ]
    }
   ],
   "source": [
    "for i in range(10):\n",
    "    time_start = time.time()\n",
    "    ubic = [float(huecos.iloc[243].FechaDEC), 0]\n",
    "    U = [llenos.iloc[random.randrange(1, len(llenos))].tolist() for n in range(nkrig)]\n",
    "    dim = len(U)\n",
    "    M = U.copy()\n",
    "    M.append(ubic)\n",
    "    Distances = [[math.dist(M[i],M[j]) for i in range(dim+1)] for j in range(dim+1)]\n",
    "    S = np.array([[1.0 for i in range(dim+2)] for j in range(dim+1)])\n",
    "    D = np.array(Distances)\n",
    "    S[0:dim, 0:dim] = D[:dim,:dim]\n",
    "    S[dim, dim] = 0.0\n",
    "    S[0:dim, dim+1] = D[0:dim, dim]\n",
    "    a = S[:dim+1, :dim+1]\n",
    "    b = S[0:dim+1, dim+1]\n",
    "    Sol = np.linalg.solve(a, b)\n",
    "    experi = S[0:dim, dim+1]\n",
    "    result = np.dot(Sol[:dim], experi)\n",
    "    d_t = time.time() - time_start\n",
    "    print(result, d_t)\n"
   ]
  },
  {
   "cell_type": "markdown",
   "id": "5d809c43-9f4e-4ada-ad89-6bb8d09b6d10",
   "metadata": {},
   "source": [
    "Existen sampleos en los que el variograma no es adecuado, provocando resultados sin sentido. Haciendo una restriccion de este, podemos medir mejor el comportamiento y el tiempo de compilación."
   ]
  },
  {
   "cell_type": "code",
   "execution_count": 27,
   "id": "8ee910bd-2d5a-4309-acbe-3b67dc050abd",
   "metadata": {},
   "outputs": [
    {
     "name": "stdout",
     "output_type": "stream",
     "text": [
      "553.8739148683444 0.1934061050415039\n"
     ]
    }
   ],
   "source": [
    "import math\n",
    "import numpy as np\n",
    "def np_method(U, ubic):\n",
    "    \"\"\"\n",
    "    Se construye la matriz de unos y se remplazan el primer bloque\n",
    "    con la matriz de distancias, se calcula la solución del sistema\n",
    "    de ecuaciones resultante.\n",
    "    \n",
    "    Parameters\n",
    "    ----------\n",
    "    U : List\n",
    "        Lista de dos dimensiones [[], ..., []] que contiene las observaciones\n",
    "        usadas para construir el sistema de ecuaciones\n",
    "    \n",
    "    ubic : List\n",
    "        Lista de posicion ['fecha', 0] en la cuál se va a calcular el valor del parametro.\n",
    "        \n",
    "    Returns\n",
    "    -------\n",
    "    float\n",
    "        Valor interpolado.\n",
    "    \"\"\"\n",
    "    dim = len(U)\n",
    "    U.append(ubic)\n",
    "    #Distances = [[math.dist(U[i],U[j]) for i in range(dim+1)] for j in range(dim+1)]\n",
    "    S = np.array([[1.0 for i in range(dim+2)] for j in range(dim+1)])\n",
    "    D = np.array([[math.dist(U[i],U[j]) for i in range(dim+1)] for j in range(dim+1)])\n",
    "    S[0:dim, 0:dim] = D[:dim,:dim]\n",
    "    S[dim, dim] = 0.0\n",
    "    S[0:dim, dim+1] = D[0:dim, dim]\n",
    "    a = S[:dim+1, :dim+1]\n",
    "    b = S[0:dim+1, dim+1]\n",
    "    Sol = np.linalg.solve(a=a, b=b)\n",
    "    experi = S[0:dim, dim+1]\n",
    "    result = np.dot(Sol[:dim], experi)\n",
    "    return result\n",
    "\n",
    "ubic = [2018, 0]\n",
    "time_start = time.time()\n",
    "while True:\n",
    "    try:\n",
    "        U = [llenos.iloc[random.randrange(1, len(llenos))].tolist() for n in range(nkrig)]\n",
    "        out = np_method(U, ubic)\n",
    "        if (out > 500) and (out < 600):\n",
    "            break\n",
    "        else: pass\n",
    "        \n",
    "    except np.linalg.LinAlgError:\n",
    "        pass\n",
    "d_t = time.time() - time_start\n",
    "print(out, d_t)"
   ]
  },
  {
   "cell_type": "markdown",
   "id": "de1af3e8-bc85-4546-a0d9-cdf876e6e36b",
   "metadata": {},
   "source": [
    "Para pasar a la arquitectura de una GPU necesitamos introducir los datos como tensores, para ello es necesario automatizar el proceso anterior.\n"
   ]
  },
  {
   "cell_type": "code",
   "execution_count": 28,
   "id": "7b169536-e868-464e-9171-55b0feca81c9",
   "metadata": {},
   "outputs": [
    {
     "name": "stdout",
     "output_type": "stream",
     "text": [
      "Estado: nivel 0 iteracion 0 de 254970 a las 17:14:35\n",
      "556.9943370065532 0.10404825210571289\n",
      "555.4635676153675 0.21288490295410156\n",
      "555.6341815303267 0.059310197830200195\n",
      "556.919697561879 0.05930781364440918\n",
      "553.6827778509249 0.061986446380615234\n",
      "556.9173189037488 0.08387875556945801\n",
      "556.125270440436 0.06186699867248535\n",
      "557.3430076372296 0.06011629104614258\n",
      "553.6756824832523 0.05983853340148926\n",
      "557.3585993766073 0.08116269111633301\n"
     ]
    }
   ],
   "source": [
    "nkrig = 24*7\n",
    "for i in range(10):\n",
    "    if i % 10 == 0:\n",
    "        print('Estado: nivel {} iteracion {} de {} a las {}'.format(0, i, len(huecos), time.strftime('%H:%M:%S', time.localtime())))\n",
    "    ubic = [huecos.iloc[i].FechaDEC, 0]\n",
    "    time_start = time.time()\n",
    "    while True:\n",
    "        try:\n",
    "            U = [llenos.iloc[random.randrange(1, len(llenos))].tolist() for n in range(nkrig)]\n",
    "            out = np_method(U, ubic)\n",
    "            if (out > 500) and (out < 600):\n",
    "                break\n",
    "            else: pass\n",
    "        except np.linalg.LinAlgError:\n",
    "            pass\n",
    "    d_t = time.time() - time_start\n",
    "    print(out, d_t)"
   ]
  },
  {
   "cell_type": "markdown",
   "id": "b0bcef13-57c7-4f49-95e8-824f078ca5d2",
   "metadata": {},
   "source": [
    "De la forma anterior podemos inferir la forma en la que construiríamos una estructura que contenga todos los sistemas de ecuaciones que deseamos resolver."
   ]
  },
  {
   "cell_type": "code",
   "execution_count": 1,
   "id": "f82946ae-69d3-499b-8a49-ddba5a543c06",
   "metadata": {},
   "outputs": [],
   "source": [
    "def get_components():\n",
    "    dim = len(U)\n",
    "    U.append(ubic)\n",
    "    Distances = [[math.dist(U[i],U[j]) for i in range(dim+1)] for j in range(dim+1)]\n",
    "    S = np.array([[1.0 for i in range(dim+2)] for j in range(dim+1)])\n",
    "    D = np.array(Distances)\n",
    "    S[0:dim, 0:dim] = D[:dim,:dim]\n",
    "    S[dim, dim] = 0.0\n",
    "    S[0:dim, dim+1] = D[0:dim, dim]\n",
    "    matr = S[:dim+1, :dim+1]\n",
    "    equ = S[0:dim+1, dim+1]\n",
    "    to_mult = S[0:dim, dim+1]\n",
    "    return matr, equ, to_mult"
   ]
  },
  {
   "cell_type": "code",
   "execution_count": null,
   "id": "14c22690-8085-4f08-804e-b74b9b83fd3d",
   "metadata": {},
   "outputs": [],
   "source": [
    "matrices = []\n",
    "equals = []\n",
    "to_multi = []\n",
    "for i in range(len(huecos)):\n",
    "    ubic = [huecos.iloc[i].FechaDEC, 0]\n",
    "    while True:\n",
    "        # calculamos el muestreo y las matrices y vectores.\n",
    "        U = [llenos.iloc[random.rndrange(1, len(llenos))].tolist() for n in range(nkrig)]\n",
    "        matr, equ, to_mul = get_components(ubic, U)\n",
    "        if torch.det(matr).item()<0:\n",
    "            if (sum(to_mul)>550) and (sum(to_mul)<650):\n",
    "                # agregamos los elementos calculados por la función \n",
    "                # necesarios para la interpolación\n",
    "                matrices.append(matr)\n",
    "                equals.append(equ)\n",
    "                to_multi.append(to_mul)\n",
    "            else: pass\n",
    "        else: pass\n",
    "        break\n",
    "soluciones = torch.linalg.solve([torch.tensor(matrices), torch.tensor(equals)])\n",
    "reemplazo = [torch.dot([soluciones[i], torch.tensor(to_multi)[i]]).item() for i in range(len(huecos))]"
   ]
  },
  {
   "cell_type": "markdown",
   "id": "aba81832-3f97-40c7-aff2-e151a0d9de13",
   "metadata": {},
   "source": [
    "Una vez obtenidos los datos interpolados procedemos a actualizar el Dataframe"
   ]
  },
  {
   "cell_type": "code",
   "execution_count": null,
   "id": "3ae9780b-4111-400d-888b-c073215b04ce",
   "metadata": {},
   "outputs": [],
   "source": [
    "for i in range(len(huecos)):\n",
    "    Datos.loc[Datos[Datos.isnull().values].index[i], 'Valor'] = reemplazo[i]\n"
   ]
  },
  {
   "cell_type": "code",
   "execution_count": null,
   "id": "aab1367c-ebcb-46fb-b32e-d278aa55a70f",
   "metadata": {},
   "outputs": [],
   "source": [
    "indexer = df[df.ids == encodedid].index\n",
    "column_list = ['Discriminant', 'questionid']\n",
    "\n",
    "df.loc[indexer, column_list] = 'Y'"
   ]
  }
 ],
 "metadata": {
  "kernelspec": {
   "display_name": "Python 3",
   "language": "python",
   "name": "python3"
  },
  "language_info": {
   "codemirror_mode": {
    "name": "ipython",
    "version": 3
   },
   "file_extension": ".py",
   "mimetype": "text/x-python",
   "name": "python",
   "nbconvert_exporter": "python",
   "pygments_lexer": "ipython3",
   "version": "3.9.6"
  }
 },
 "nbformat": 4,
 "nbformat_minor": 5
}
