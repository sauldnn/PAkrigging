{
 "cells": [
  {
   "cell_type": "code",
   "execution_count": 1,
   "id": "3e444d1c-42b9-4287-ac3d-84aacb7dae98",
   "metadata": {},
   "outputs": [
    {
     "data": {
      "text/plain": [
       "[[0, 'AJM', 'PA'],\n",
       " [1, 'CUT', 'PA'],\n",
       " [2, 'HGM', 'PA'],\n",
       " [3, 'INN', 'PA'],\n",
       " [4, 'LAA', 'PA'],\n",
       " [5, 'MER', 'PA'],\n",
       " [6, 'MON', 'PA'],\n",
       " [7, 'MPA', 'PA'],\n",
       " [8, 'TLA', 'PA'],\n",
       " [9, 'XAL', 'PA']]"
      ]
     },
     "execution_count": 1,
     "metadata": {},
     "output_type": "execute_result"
    }
   ],
   "source": [
    "import pymysql.cursors\n",
    "import pandas as pd\n",
    "\n",
    "# Connect to the database\n",
    "connection = pymysql.connect(host='localhost',\n",
    "                             user='root',\n",
    "                             password='root',\n",
    "                             database='PA',\n",
    "                             cursorclass=pymysql.cursors.DictCursor)\n",
    "\n",
    "with connection.cursor() as cursor:\n",
    "    cursor.execute(\"SELECT DISTINCT Estacion FROM presionatmosferica\")\n",
    "    result_est = cursor.fetchall()\n",
    "    cursor.execute(\"SELECT DISTINCT Parametro FROM presionatmosferica\")\n",
    "    result_par = cursor.fetchall()\n",
    "    #cursor.close()\n",
    "    cursor.execute(\"SELECT DISTINCT Parametro FROM presionatmosferica\")\n",
    "    result_par = cursor.fetchall()\n",
    "    cursor.close()\n",
    "estaciones = pd.DataFrame(result_est)\n",
    "parametros = pd.DataFrame(result_par)\n",
    "QuerySerial = [[i, estaciones.Estacion.iloc[i], parametros.Parametro.iloc[j]]for i in range(len(estaciones)) for j in range(len(parametros))]\n",
    "QuerySerial"
   ]
  },
  {
   "cell_type": "code",
   "execution_count": 3,
   "id": "f994d948-04a3-4feb-bd73-ca05de3d0f54",
   "metadata": {},
   "outputs": [
    {
     "data": {
      "text/plain": [
       "'SELECT Valor FROM presionatmosferica WHERE Estacion=CUT ORDER BY FechaDEC ASC'"
      ]
     },
     "execution_count": 3,
     "metadata": {},
     "output_type": "execute_result"
    }
   ],
   "source": [
    "ConsultaV = 'SELECT Valor FROM presionatmosferica WHERE Estacion=' + QuerySerial[1][1] + ' ORDER BY FechaDEC ASC'\n",
    "ConsultaV"
   ]
  },
  {
   "cell_type": "code",
   "execution_count": 2,
   "id": "05ba596d-91b7-4ecb-95ef-88eddb67bb3c",
   "metadata": {
    "tags": []
   },
   "outputs": [
    {
     "name": "stdout",
     "output_type": "stream",
     "text": [
      "SELECT FechaDEC, Valor FROM presionatmosferica WHERE Estacion=\"AJM\" ORDER BY FechaDEC ASC\n"
     ]
    }
   ],
   "source": [
    "import time\n",
    "import pymysql.cursors\n",
    "import mysql.connector\n",
    "import pandas as pd\n",
    "import numpy as np\n",
    "import math\n",
    "import random\n",
    "from sympy import *\n",
    "ConsultaV = 'SELECT FechaDEC, Valor FROM presionatmosferica WHERE Estacion=\"' + QuerySerial[0][1] + '\" ORDER BY FechaDEC ASC'\n",
    "print(ConsultaV)\n",
    "with connection.cursor() as cursor:\n",
    "\n",
    "    #ConsultaV = 'SELECT Valor FROM presionatmosferica WHERE Estacion=' + QuerySerial[0][1] + ' ORDER BY FechaDEC ASC'\n",
    "    cursor.execute(ConsultaV)\n",
    "    Valor = cursor.fetchall()\n",
    "len(Valor)\n",
    "Datos = pd.DataFrame(Valor)\n",
    "Datos['Valor'] = pd.to_numeric(Datos['Valor'], errors='coerce')\n",
    "Datos['FechaDEC'] = pd.to_numeric(Datos['FechaDEC'], errors='coerce')\n",
    "llenos = Datos.dropna()\n",
    "huecos = Datos[Datos.isnull().values]\n",
    "nkrig = 24 * 7\n",
    "#vals = [random.choice(llenos.values.tolist()) for i in range(dim)]\n",
    "#len(vals) == dim\n",
    "#dim = len(llenos)\n"
   ]
  },
  {
   "cell_type": "code",
   "execution_count": 12,
   "id": "4cc3ea96-4f38-46d3-a55b-20bfa1ae3bd9",
   "metadata": {},
   "outputs": [
    {
     "name": "stderr",
     "output_type": "stream",
     "text": [
      "/home/ars/.local/lib/python3.9/site-packages/seaborn/_decorators.py:36: FutureWarning: Pass the following variables as keyword args: x, y. From version 0.12, the only valid positional argument will be `data`, and passing other arguments without an explicit keyword will result in an error or misinterpretation.\n",
      "  warnings.warn(\n"
     ]
    },
    {
     "data": {
      "text/plain": [
       "<AxesSubplot:xlabel='0', ylabel='1'>"
      ]
     },
     "execution_count": 12,
     "metadata": {},
     "output_type": "execute_result"
    },
    {
     "data": {
      "image/png": "[encoded data removed]",
      "text/plain": [
       "<Figure size 432x288 with 1 Axes>"
      ]
     },
     "metadata": {
      "needs_background": "light"
     },
     "output_type": "display_data"
    }
   ],
   "source": [
    "import matplotlib.pyplot as plt\n",
    "import seaborn as sns\n",
    "U = [llenos.iloc[random.randrange(1, len(llenos))].tolist() for n in range(nkrig)]\n",
    "forplot = pd.DataFrame(U)\n",
    "sns.scatterplot(forplot[0] ,forplot[1])"
   ]
  },
  {
   "cell_type": "code",
   "execution_count": 13,
   "id": "8b0043b9-2594-42e5-b668-c9161bd76a1e",
   "metadata": {},
   "outputs": [
    {
     "name": "stdout",
     "output_type": "stream",
     "text": [
      "555.8920768404518\n"
     ]
    },
    {
     "data": {
      "text/plain": [
       "73.74644637107849"
      ]
     },
     "execution_count": 13,
     "metadata": {},
     "output_type": "execute_result"
    }
   ],
   "source": [
    "time_start = time.time()\n",
    "ubic = [float(huecos.iloc[1].FechaDEC), 1]\n",
    "U = [llenos.iloc[random.randrange(1, len(llenos))].tolist() for n in range(nkrig)]\n",
    "dim = len(U)\n",
    "U.append(ubic)\n",
    "Distances = [[math.dist(U[i],U[j]) for i in range(len(U))] for j in range(len(U))]\n",
    "S = ones(dim+1, dim+2)\n",
    "D = Matrix(Distances)\n",
    "S[0:dim, 0:dim] = D[0:dim, 0:dim]\n",
    "S[dim, dim] = 0.0\n",
    "S[0:dim, dim+1] = D[0:dim, dim]\n",
    "Sol, _ = S.rref()\n",
    "#Sol[0:dim, dim+1]\n",
    "Vals = S[0:dim, dim+1]\n",
    "result = (Sol[0:dim, dim+1].T * Vals)[0]\n",
    "print(float(result))\n",
    "d_t = time.time() - time_start\n",
    "d_t"
   ]
  },
  {
   "cell_type": "code",
   "execution_count": 20,
   "id": "6eb76b99-d6b2-4738-8c6a-d7607539e998",
   "metadata": {},
   "outputs": [
    {
     "name": "stdout",
     "output_type": "stream",
     "text": [
      "557.0896388908121 0.05281519889831543\n",
      "555.2117138072509 0.08783435821533203\n",
      "557.0971961951956 0.07668566703796387\n",
      "576.0 0.0765833854675293\n",
      "556.8252882078913 0.08970785140991211\n",
      "560.0 0.07781004905700684\n",
      "557.4828566370335 0.08721542358398438\n",
      "556.3971689867918 0.09403681755065918\n",
      "553.8931035537037 0.09885168075561523\n",
      "556.6557635247159 0.12134695053100586\n",
      "557.5127161843965 0.08668684959411621\n",
      "557.6659388123965 0.1276073455810547\n",
      "0.0 0.11517047882080078\n",
      "-130717.25214099884 0.13225936889648438\n",
      "556.9648699496183 0.06123208999633789\n",
      "556.3988463998833 0.11833477020263672\n",
      "-24576.0 0.21933460235595703\n",
      "557.1352061202774 0.09680628776550293\n",
      "556.1991884373853 0.08979296684265137\n",
      "556.8343505929282 0.0983884334564209\n",
      "556.0943968370967 0.08040094375610352\n",
      "553.77284108161 0.08071231842041016\n",
      "640.0 0.08180046081542969\n",
      "555.4530557376227 0.08350133895874023\n",
      "557.1362195364803 0.07552886009216309\n",
      "556.6390883215969 0.09135913848876953\n",
      "556.4394399192698 0.09061789512634277\n",
      "556.6162357846907 0.09135794639587402\n",
      "556.8540307441656 0.08038878440856934\n",
      "557.0263688153651 0.08952736854553223\n",
      "556.2156175109798 0.09625792503356934\n",
      "556.249782384016 0.11805939674377441\n",
      "555.4889699147229 0.09730267524719238\n",
      "556.4648641898473 0.08143830299377441\n",
      "557.1274216220911 0.10728645324707031\n",
      "557.225145537832 0.09092831611633301\n",
      "554.7831618845516 0.08761119842529297\n",
      "555.4821150684093 0.1016688346862793\n",
      "370.3734121211746 0.11742591857910156\n",
      "556.869578633062 0.08559870719909668\n",
      "556.2122847033706 0.09743738174438477\n",
      "554.7772973216981 0.09528899192810059\n",
      "557.3424338282255 0.07462215423583984\n",
      "557.54300019312 0.06544733047485352\n",
      "557.0459193273728 0.07449698448181152\n",
      "556.3291700807288 0.09095168113708496\n",
      "557.2632138959561 0.11830568313598633\n",
      "557.0697534186259 0.08997917175292969\n",
      "-10420.739515613765 0.07653641700744629\n"
     ]
    },
    {
     "ename": "LinAlgError",
     "evalue": "Singular matrix",
     "output_type": "error",
     "traceback": [
      "\u001b[0;31m---------------------------------------------------------------------------\u001b[0m",
      "\u001b[0;31mLinAlgError\u001b[0m                               Traceback (most recent call last)",
      "\u001b[0;32m<ipython-input-20-152734196bea>\u001b[0m in \u001b[0;36m<module>\u001b[0;34m\u001b[0m\n\u001b[1;32m     14\u001b[0m     \u001b[0ma\u001b[0m \u001b[0;34m=\u001b[0m \u001b[0mS\u001b[0m\u001b[0;34m[\u001b[0m\u001b[0;34m:\u001b[0m\u001b[0mdim\u001b[0m\u001b[0;34m+\u001b[0m\u001b[0;36m1\u001b[0m\u001b[0;34m,\u001b[0m \u001b[0;34m:\u001b[0m\u001b[0mdim\u001b[0m\u001b[0;34m+\u001b[0m\u001b[0;36m1\u001b[0m\u001b[0;34m]\u001b[0m\u001b[0;34m\u001b[0m\u001b[0;34m\u001b[0m\u001b[0m\n\u001b[1;32m     15\u001b[0m     \u001b[0mb\u001b[0m \u001b[0;34m=\u001b[0m \u001b[0mS\u001b[0m\u001b[0;34m[\u001b[0m\u001b[0;36m0\u001b[0m\u001b[0;34m:\u001b[0m\u001b[0mdim\u001b[0m\u001b[0;34m+\u001b[0m\u001b[0;36m1\u001b[0m\u001b[0;34m,\u001b[0m \u001b[0mdim\u001b[0m\u001b[0;34m+\u001b[0m\u001b[0;36m1\u001b[0m\u001b[0;34m]\u001b[0m\u001b[0;34m\u001b[0m\u001b[0;34m\u001b[0m\u001b[0m\n\u001b[0;32m---> 16\u001b[0;31m     \u001b[0mSol\u001b[0m \u001b[0;34m=\u001b[0m \u001b[0mnp\u001b[0m\u001b[0;34m.\u001b[0m\u001b[0mlinalg\u001b[0m\u001b[0;34m.\u001b[0m\u001b[0msolve\u001b[0m\u001b[0;34m(\u001b[0m\u001b[0ma\u001b[0m\u001b[0;34m,\u001b[0m \u001b[0mb\u001b[0m\u001b[0;34m)\u001b[0m\u001b[0;34m\u001b[0m\u001b[0;34m\u001b[0m\u001b[0m\n\u001b[0m\u001b[1;32m     17\u001b[0m     \u001b[0mexperi\u001b[0m \u001b[0;34m=\u001b[0m \u001b[0mS\u001b[0m\u001b[0;34m[\u001b[0m\u001b[0;36m0\u001b[0m\u001b[0;34m:\u001b[0m\u001b[0mdim\u001b[0m\u001b[0;34m,\u001b[0m \u001b[0mdim\u001b[0m\u001b[0;34m+\u001b[0m\u001b[0;36m1\u001b[0m\u001b[0;34m]\u001b[0m\u001b[0;34m\u001b[0m\u001b[0;34m\u001b[0m\u001b[0m\n\u001b[1;32m     18\u001b[0m     \u001b[0mresult\u001b[0m \u001b[0;34m=\u001b[0m \u001b[0mnp\u001b[0m\u001b[0;34m.\u001b[0m\u001b[0mdot\u001b[0m\u001b[0;34m(\u001b[0m\u001b[0mSol\u001b[0m\u001b[0;34m[\u001b[0m\u001b[0;34m:\u001b[0m\u001b[0mdim\u001b[0m\u001b[0;34m]\u001b[0m\u001b[0;34m,\u001b[0m \u001b[0mexperi\u001b[0m\u001b[0;34m)\u001b[0m\u001b[0;34m\u001b[0m\u001b[0;34m\u001b[0m\u001b[0m\n",
      "\u001b[0;32m<__array_function__ internals>\u001b[0m in \u001b[0;36msolve\u001b[0;34m(*args, **kwargs)\u001b[0m\n",
      "\u001b[0;32m~/.local/lib/python3.9/site-packages/numpy/linalg/linalg.py\u001b[0m in \u001b[0;36msolve\u001b[0;34m(a, b)\u001b[0m\n\u001b[1;32m    391\u001b[0m     \u001b[0msignature\u001b[0m \u001b[0;34m=\u001b[0m \u001b[0;34m'DD->D'\u001b[0m \u001b[0;32mif\u001b[0m \u001b[0misComplexType\u001b[0m\u001b[0;34m(\u001b[0m\u001b[0mt\u001b[0m\u001b[0;34m)\u001b[0m \u001b[0;32melse\u001b[0m \u001b[0;34m'dd->d'\u001b[0m\u001b[0;34m\u001b[0m\u001b[0;34m\u001b[0m\u001b[0m\n\u001b[1;32m    392\u001b[0m     \u001b[0mextobj\u001b[0m \u001b[0;34m=\u001b[0m \u001b[0mget_linalg_error_extobj\u001b[0m\u001b[0;34m(\u001b[0m\u001b[0m_raise_linalgerror_singular\u001b[0m\u001b[0;34m)\u001b[0m\u001b[0;34m\u001b[0m\u001b[0;34m\u001b[0m\u001b[0m\n\u001b[0;32m--> 393\u001b[0;31m     \u001b[0mr\u001b[0m \u001b[0;34m=\u001b[0m \u001b[0mgufunc\u001b[0m\u001b[0;34m(\u001b[0m\u001b[0ma\u001b[0m\u001b[0;34m,\u001b[0m \u001b[0mb\u001b[0m\u001b[0;34m,\u001b[0m \u001b[0msignature\u001b[0m\u001b[0;34m=\u001b[0m\u001b[0msignature\u001b[0m\u001b[0;34m,\u001b[0m \u001b[0mextobj\u001b[0m\u001b[0;34m=\u001b[0m\u001b[0mextobj\u001b[0m\u001b[0;34m)\u001b[0m\u001b[0;34m\u001b[0m\u001b[0;34m\u001b[0m\u001b[0m\n\u001b[0m\u001b[1;32m    394\u001b[0m \u001b[0;34m\u001b[0m\u001b[0m\n\u001b[1;32m    395\u001b[0m     \u001b[0;32mreturn\u001b[0m \u001b[0mwrap\u001b[0m\u001b[0;34m(\u001b[0m\u001b[0mr\u001b[0m\u001b[0;34m.\u001b[0m\u001b[0mastype\u001b[0m\u001b[0;34m(\u001b[0m\u001b[0mresult_t\u001b[0m\u001b[0;34m,\u001b[0m \u001b[0mcopy\u001b[0m\u001b[0;34m=\u001b[0m\u001b[0;32mFalse\u001b[0m\u001b[0;34m)\u001b[0m\u001b[0;34m)\u001b[0m\u001b[0;34m\u001b[0m\u001b[0;34m\u001b[0m\u001b[0m\n",
      "\u001b[0;32m~/.local/lib/python3.9/site-packages/numpy/linalg/linalg.py\u001b[0m in \u001b[0;36m_raise_linalgerror_singular\u001b[0;34m(err, flag)\u001b[0m\n\u001b[1;32m     86\u001b[0m \u001b[0;34m\u001b[0m\u001b[0m\n\u001b[1;32m     87\u001b[0m \u001b[0;32mdef\u001b[0m \u001b[0m_raise_linalgerror_singular\u001b[0m\u001b[0;34m(\u001b[0m\u001b[0merr\u001b[0m\u001b[0;34m,\u001b[0m \u001b[0mflag\u001b[0m\u001b[0;34m)\u001b[0m\u001b[0;34m:\u001b[0m\u001b[0;34m\u001b[0m\u001b[0;34m\u001b[0m\u001b[0m\n\u001b[0;32m---> 88\u001b[0;31m     \u001b[0;32mraise\u001b[0m \u001b[0mLinAlgError\u001b[0m\u001b[0;34m(\u001b[0m\u001b[0;34m\"Singular matrix\"\u001b[0m\u001b[0;34m)\u001b[0m\u001b[0;34m\u001b[0m\u001b[0;34m\u001b[0m\u001b[0m\n\u001b[0m\u001b[1;32m     89\u001b[0m \u001b[0;34m\u001b[0m\u001b[0m\n\u001b[1;32m     90\u001b[0m \u001b[0;32mdef\u001b[0m \u001b[0m_raise_linalgerror_nonposdef\u001b[0m\u001b[0;34m(\u001b[0m\u001b[0merr\u001b[0m\u001b[0;34m,\u001b[0m \u001b[0mflag\u001b[0m\u001b[0;34m)\u001b[0m\u001b[0;34m:\u001b[0m\u001b[0;34m\u001b[0m\u001b[0;34m\u001b[0m\u001b[0m\n",
      "\u001b[0;31mLinAlgError\u001b[0m: Singular matrix"
     ]
    }
   ],
   "source": [
    "for i in range(200):\n",
    "    time_start = time.time()\n",
    "    ubic = [float(huecos.iloc[243].FechaDEC), 0]\n",
    "    U = [llenos.iloc[random.randrange(1, len(llenos))].tolist() for n in range(nkrig)]\n",
    "    dim = len(U)\n",
    "    M = U.copy()\n",
    "    M.append(ubic)\n",
    "    Distances = [[math.dist(M[i],M[j]) for i in range(dim+1)] for j in range(dim+1)]\n",
    "    S = np.array([[1.0 for i in range(dim+2)] for j in range(dim+1)])\n",
    "    D = np.array(Distances)\n",
    "    S[0:dim, 0:dim] = D[:dim,:dim]\n",
    "    S[dim, dim] = 0.0\n",
    "    S[0:dim, dim+1] = D[0:dim, dim]\n",
    "    a = S[:dim+1, :dim+1]\n",
    "    b = S[0:dim+1, dim+1]\n",
    "    Sol = np.linalg.solve(a, b)\n",
    "    experi = S[0:dim, dim+1]\n",
    "    result = np.dot(Sol[:dim], experi)\n",
    "    d_t = time.time() - time_start\n",
    "    print(result, d_t)\n"
   ]
  },
  {
   "cell_type": "code",
   "execution_count": 18,
   "id": "07b2027c-99cb-4359-b40e-f6d6fd13f010",
   "metadata": {},
   "outputs": [
    {
     "name": "stdout",
     "output_type": "stream",
     "text": [
      "558.9348742468412\n"
     ]
    }
   ],
   "source": [
    "\n",
    "import math\n",
    "from sympy import *\n",
    "U = [[2018.88835616438, 562.0], [2020.8232012750452, 558.7], [2019.5174657534, 561.1]]\n",
    "vals = [[2016.11327413479, 562.0], [2016.06511839709, 559.0], [2020.488387978142, 559.0]]\n",
    "dim = len(U)\n",
    "ubic = [2018, 0]\n",
    "#\n",
    "M = U.copy()\n",
    "M.append(ubic)\n",
    "Distances = [[math.dist(M[i],M[j]) for i in range(dim+1)] for j in range(dim+1)]\n",
    "S = np.array([[1.0 for i in range(dim+2)] for j in range(dim+1)])\n",
    "D = np.array(Distances)\n",
    "S[0:dim, 0:dim] = D[:dim,:dim]\n",
    "S[dim, dim] = 0.0\n",
    "S[0:dim, dim+1] = D[0:dim, dim]\n",
    "a = S[:dim+1, :dim+1]\n",
    "b = S[0:dim+1, dim+1]\n",
    "Sol = np.linalg.solve(a, b)\n",
    "experi = S[0:dim, dim+1]\n",
    "result = np.dot(Sol[:dim], experi)\n",
    "print(result)"
   ]
  },
  {
   "cell_type": "code",
   "execution_count": 36,
   "id": "8ee910bd-2d5a-4309-acbe-3b67dc050abd",
   "metadata": {},
   "outputs": [
    {
     "name": "stdout",
     "output_type": "stream",
     "text": [
      "556.3210693081622\n"
     ]
    }
   ],
   "source": [
    "import math\n",
    "import numpy as np\n",
    "def k_method(U, ubic):\n",
    "    dim = len(U)\n",
    "    U.append(ubic)\n",
    "    Distances = [[math.dist(U[i],U[j]) for i in range(dim+1)] for j in range(dim+1)]\n",
    "    S = np.array([[1.0 for i in range(dim+2)] for j in range(dim+1)])\n",
    "    D = np.array(Distances)\n",
    "    S[0:dim, 0:dim] = D[:dim,:dim]\n",
    "    S[dim, dim] = 0.0\n",
    "    S[0:dim, dim+1] = D[0:dim, dim]\n",
    "    a = S[:dim+1, :dim+1]\n",
    "    b = S[0:dim+1, dim+1]\n",
    "    Sol = np.linalg.solve(a=a, b=b)\n",
    "    experi = S[0:dim, dim+1]\n",
    "    result = np.dot(Sol[:dim], experi)\n",
    "    return result\n",
    "ubic = [2018, 0]\n",
    "\n",
    "while True:\n",
    "    try:\n",
    "        U = [llenos.iloc[random.randrange(1, len(llenos))].tolist() for n in range(nkrig)]\n",
    "        out = k_method(U, ubic)\n",
    "        if (out > 500) and (out < 600):\n",
    "            break\n",
    "        else: pass\n",
    "        \n",
    "    except np.linalg.LinAlgError:\n",
    "        pass\n",
    "print(out)"
   ]
  },
  {
   "cell_type": "code",
   "execution_count": null,
   "id": "1fc3fc12-25b0-4638-aa74-a802dfde35d8",
   "metadata": {},
   "outputs": [],
   "source": []
  },
  {
   "cell_type": "code",
   "execution_count": null,
   "id": "7b169536-e868-464e-9171-55b0feca81c9",
   "metadata": {},
   "outputs": [],
   "source": []
  }
 ],
 "metadata": {
  "kernelspec": {
   "display_name": "Python 3",
   "language": "python",
   "name": "python3"
  },
  "language_info": {
   "codemirror_mode": {
    "name": "ipython",
    "version": 3
   },
   "file_extension": ".py",
   "mimetype": "text/x-python",
   "name": "python",
   "nbconvert_exporter": "python",
   "pygments_lexer": "ipython3",
   "version": "3.9.6"
  }
 },
 "nbformat": 4,
 "nbformat_minor": 5
}
